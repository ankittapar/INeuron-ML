{
 "cells": [
  {
   "cell_type": "raw",
   "metadata": {},
   "source": [
    "1.1 Write a Python Program to implement your own myreduce() function which works exactly\n",
    "like Python's built-in function reduce()"
   ]
  },
  {
   "cell_type": "code",
   "execution_count": 15,
   "metadata": {},
   "outputs": [
    {
     "name": "stdout",
     "output_type": "stream",
     "text": [
      "\n",
      "\n",
      "\n",
      "******Output comparison with defined function 'sum_num'*****\n",
      "\n",
      "\n",
      "\n",
      "Output for inbuild function reduce:  10\n",
      "Output for defined function myreduce:  10\n",
      "\n",
      "\n",
      "\n",
      "******Output comparison with defined function 'max_chk'*****\n",
      "\n",
      "\n",
      "\n",
      "Output for inbuild function reduce:  4\n",
      "Output for defined function myreduce:  4\n",
      "******Output comparison with Lambda function*****\n",
      "\n",
      "\n",
      "\n",
      "Output for inbuild function reduce:  1\n",
      "Output for defined function myreduce:  1\n"
     ]
    }
   ],
   "source": [
    "#Function returning MAX value\n",
    "def max_chk(i,j):\n",
    "    if i > j:\n",
    "        return i\n",
    "    else:\n",
    "        return j\n",
    "\n",
    "\n",
    "#Function returning SUM value    \n",
    "def sum_num(i,j):\n",
    "    return i+j\n",
    "\n",
    "#Function myreduce() ,which is clone of inbuild funtion reduce() \n",
    "def myreduce(func,args):\n",
    "    chk = args[0] \n",
    "    for i in range(1,len(args)):\n",
    "        chk = func(chk,args[i])\n",
    "    return chk\n",
    "\n",
    "from functools import reduce\n",
    "\n",
    "print(\"\\n\\n\\n******Output comparison with defined function 'sum_num'*****\\n\\n\\n\")\n",
    "val= reduce(sum_num,[1,2,3,4])\n",
    "print(\"Output for inbuild function reduce: \", val)\n",
    "val= myreduce(sum_num,[1,2,3,4])\n",
    "print(\"Output for defined function myreduce: \", val)  \n",
    "\n",
    "print(\"\\n\\n\\n******Output comparison with defined function 'max_chk'*****\\n\\n\\n\")\n",
    "val= reduce(max_chk,[1,2,3,4])\n",
    "print(\"Output for inbuild function reduce: \", val)\n",
    "val= myreduce(max_chk,[1,2,3,4])\n",
    "print(\"Output for defined function myreduce: \", val)  \n",
    "\n",
    "print(\"******Output comparison with Lambda function*****\\n\\n\\n\")\n",
    "val = reduce(lambda x,y: x if x<y else y ,[1,2,3,4])\n",
    "print(\"Output for inbuild function reduce: \", val)\n",
    "val = myreduce(lambda x,y: x if x<y else y,[1,2,3,4])\n",
    "print(\"Output for defined function myreduce: \", val)    \n"
   ]
  },
  {
   "cell_type": "raw",
   "metadata": {},
   "source": [
    "1.2 Write a Python program to implement your own myfilter() function which works exactly\n",
    "like Python's built-in function filter()"
   ]
  },
  {
   "cell_type": "code",
   "execution_count": 16,
   "metadata": {},
   "outputs": [
    {
     "name": "stdout",
     "output_type": "stream",
     "text": [
      "******Output comparison with Lambda function*****\n",
      "\n",
      "\n",
      "\n",
      "Output for inbuild function filter:  [2, 4, 6, 8]\n",
      "Output for defined function myfilter:  [2, 4, 6, 8]\n",
      "\n",
      "\n",
      "\n",
      "******Output comparison with defined function 'odd_chk'*****\n",
      "\n",
      "\n",
      "\n",
      "Output for inbuild function filter:  [1, 3, 7]\n",
      "Output for defined function myfilter:  [1, 3, 7]\n",
      "\n",
      "\n",
      "\n",
      "******Output comparison with defined function 'rnd_num'*****\n",
      "\n",
      "\n",
      "\n",
      "Output for inbuild function filter:  [1, 2, 3, 4, 6, 7, 8]\n",
      "Output for defined function myfilter:  [1, 2, 3, 4, 6, 7, 8]\n"
     ]
    }
   ],
   "source": [
    "#Function returning Boolean value\n",
    "def odd_chk(i):\n",
    "    if i % 2 != 0:\n",
    "        return True\n",
    "    else:\n",
    "        return False\n",
    "\n",
    "\n",
    "#Function returning non-Boolean value    \n",
    "def rnd_num(i):\n",
    "    return i\n",
    "\n",
    "\n",
    "#Function myfilter() ,which is clone of inbuild funtion filter() \n",
    "def myfilter(func,args):\n",
    "    for i in args:\n",
    "        chk = func(i)\n",
    "        if chk == True:\n",
    "            yield i\n",
    "        elif chk == False:\n",
    "            continue\n",
    "        else:\n",
    "            yield chk\n",
    "print(\"******Output comparison with Lambda function*****\\n\\n\\n\")\n",
    "lst_filter = list(filter(lambda x: True if x%2 ==0 else False,[1,2,3,4,6,7,8]))\n",
    "print(\"Output for inbuild function filter: \", lst_filter)\n",
    "lst_myfilter = list(myfilter(lambda x: True if x%2 ==0 else False,[1,2,3,4,6,7,8]))\n",
    "print(\"Output for defined function myfilter: \", lst_myfilter)    \n",
    "\n",
    "\n",
    "print(\"\\n\\n\\n******Output comparison with defined function 'odd_chk'*****\\n\\n\\n\")\n",
    "lst_filter = list(filter(odd_chk,[1,2,3,4,6,7,8]))\n",
    "print(\"Output for inbuild function filter: \", lst_filter)\n",
    "lst_myfilter = list(myfilter(odd_chk,[1,2,3,4,6,7,8]))\n",
    "print(\"Output for defined function myfilter: \", lst_myfilter)    \n",
    "\n",
    "\n",
    "print(\"\\n\\n\\n******Output comparison with defined function 'rnd_num'*****\\n\\n\\n\")\n",
    "lst_filter = list(filter(rnd_num,[1,2,3,4,6,7,8]))\n",
    "print(\"Output for inbuild function filter: \", lst_filter)\n",
    "lst_myfilter = list(myfilter(rnd_num,[1,2,3,4,6,7,8]))\n",
    "print(\"Output for defined function myfilter: \", lst_myfilter)    "
   ]
  },
  {
   "cell_type": "raw",
   "metadata": {},
   "source": [
    "2. Implement List comprehensions to produce the following lists.\n",
    "Write List comprehensions to produce the following Lists"
   ]
  },
  {
   "cell_type": "raw",
   "metadata": {},
   "source": [
    "Expected Pattern of list comprehension:\n",
    "\n",
    "['x', 'xx', 'xxx', 'xxxx', 'y', 'yy', 'yyy', 'yyyy', 'z', 'zz', 'zzz', 'zzzz']"
   ]
  },
  {
   "cell_type": "code",
   "execution_count": 17,
   "metadata": {},
   "outputs": [
    {
     "name": "stdout",
     "output_type": "stream",
     "text": [
      "['x', 'xx', 'xxx', 'xxxx', 'y', 'yy', 'yyy', 'yyyy', 'z', 'zz', 'zzz', 'zzzz']\n"
     ]
    }
   ],
   "source": [
    "lst_times = [x*i   for x in ['x','y','z'] for i in range(1,5) ]\n",
    "print(lst_times)"
   ]
  },
  {
   "cell_type": "raw",
   "metadata": {},
   "source": [
    "Expected Pattern of list comprehension:\n",
    "\n",
    "['x', 'y', 'z', 'xx', 'yy', 'zz', 'xxx', 'yyy', 'zzz', 'xxxx', 'yyyy', 'zzzz']"
   ]
  },
  {
   "cell_type": "code",
   "execution_count": 18,
   "metadata": {},
   "outputs": [
    {
     "name": "stdout",
     "output_type": "stream",
     "text": [
      "['x', 'y', 'z', 'xx', 'yy', 'zz', 'xxx', 'yyy', 'zzz', 'xxxx', 'yyyy', 'zzzz']\n"
     ]
    }
   ],
   "source": [
    "lst_times = [x*i  for i in range(1,5) for x in ['x','y','z'] ]\n",
    "print(lst_times)"
   ]
  },
  {
   "cell_type": "raw",
   "metadata": {},
   "source": [
    "Expected Pattern of list comprehension:\n",
    "\n",
    "[[2], [3], [4], [3], [4], [5], [4], [5], [6]]"
   ]
  },
  {
   "cell_type": "code",
   "execution_count": 19,
   "metadata": {},
   "outputs": [
    {
     "name": "stdout",
     "output_type": "stream",
     "text": [
      "[[2], [3], [4], [3], [4], [5], [4], [5], [6]]\n"
     ]
    }
   ],
   "source": [
    "lst_cmp = [[i] for j in range(2,5) for i in range(j,j+3)]\n",
    "print(lst_cmp)"
   ]
  },
  {
   "cell_type": "raw",
   "metadata": {},
   "source": [
    "Expected Pattern of list comprehension:\n",
    "\n",
    "[[2, 3, 4, 5], [3, 4, 5, 6],\n",
    "[4, 5, 6, 7], [5, 6, 7, 8]]"
   ]
  },
  {
   "cell_type": "code",
   "execution_count": 20,
   "metadata": {},
   "outputs": [
    {
     "name": "stdout",
     "output_type": "stream",
     "text": [
      "[[2, 3, 4, 5], [3, 4, 5, 6], [4, 5, 6, 7], [5, 6, 7, 8]]\n"
     ]
    }
   ],
   "source": [
    "lst_cmp = [[i,i+1,i+2,i+3] for i in range(2,6)]\n",
    "print(lst_cmp)"
   ]
  },
  {
   "cell_type": "raw",
   "metadata": {},
   "source": [
    "Expected Pattern of list comprehension:\n",
    "\n",
    "[(1, 1), (2, 1), (3, 1), (1, 2), (2, 2), (3, 2), (1, 3), (2, 3), (3, 3)]"
   ]
  },
  {
   "cell_type": "code",
   "execution_count": 21,
   "metadata": {},
   "outputs": [
    {
     "name": "stdout",
     "output_type": "stream",
     "text": [
      "[(1, 1), (2, 1), (3, 1), (1, 2), (2, 2), (3, 2), (1, 3), (2, 3), (3, 3)]\n"
     ]
    }
   ],
   "source": [
    "lst_times = [(j,i) for i in range(1,4) for j in range(1,4)]\n",
    "print(lst_times)"
   ]
  }
 ],
 "metadata": {
  "kernelspec": {
   "display_name": "Python 3",
   "language": "python",
   "name": "python3"
  },
  "language_info": {
   "codemirror_mode": {
    "name": "ipython",
    "version": 3
   },
   "file_extension": ".py",
   "mimetype": "text/x-python",
   "name": "python",
   "nbconvert_exporter": "python",
   "pygments_lexer": "ipython3",
   "version": "3.7.6"
  }
 },
 "nbformat": 4,
 "nbformat_minor": 4
}
